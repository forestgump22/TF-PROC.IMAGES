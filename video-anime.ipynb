{
 "cells": [
  {
   "cell_type": "code",
   "execution_count": 1,
   "metadata": {},
   "outputs": [
    {
     "name": "stdout",
     "output_type": "stream",
     "text": [
      "Hello World!\n"
     ]
    }
   ],
   "source": [
    "print(\"Hello World!\")"
   ]
  },
  {
   "cell_type": "code",
   "execution_count": null,
   "metadata": {},
   "outputs": [],
   "source": [
    "import cv2\n",
    "import numpy as np\n",
    "\n",
    "# Inicializar la captura de video desde la webcam (índice 0)\n",
    "cap = cv2.VideoCapture(0)\n",
    "\n",
    "# Definir el kernel\n",
    "kernel = np.ones((5, 5), np.uint8)\n",
    "\n",
    "# Crear una ventana de visualización\n",
    "cv2.namedWindow('Estilizado en Tiempo Real', cv2.WINDOW_NORMAL)\n",
    "\n",
    "while cap.isOpened():\n",
    "    ret, frame = cap.read()\n",
    "    if not ret:\n",
    "        break\n",
    "\n",
    "    # Redimensionar el marco para procesamiento más rápido\n",
    "    frame = cv2.resize(frame, (640, 480))\n",
    "\n",
    "    # Convertir a escala de grises\n",
    "    gray = cv2.cvtColor(frame, cv2.COLOR_BGR2GRAY)\n",
    "\n",
    "    # Aplicar cierre\n",
    "    closed = cv2.morphologyEx(gray, cv2.MORPH_CLOSE, kernel)\n",
    "\n",
    "    # Aplicar apertura\n",
    "    opened = cv2.morphologyEx(closed, cv2.MORPH_OPEN, kernel)\n",
    "\n",
    "    # Aplicar binarización\n",
    "    _, binary = cv2.threshold(opened, 120, 255, cv2.THRESH_BINARY_INV)\n",
    "\n",
    "    # Calcular el gradiente morfológico\n",
    "    gradient = cv2.morphologyEx(opened, cv2.MORPH_GRADIENT, kernel)\n",
    "\n",
    "    # Invertir el gradiente para obtener bordes en blanco sobre fondo negro\n",
    "    gradient_inv = cv2.bitwise_not(gradient)\n",
    "\n",
    "    # Convertir el gradiente a tres canales\n",
    "    gradient_colored = cv2.cvtColor(gradient_inv, cv2.COLOR_GRAY2BGR)\n",
    "\n",
    "    # Aplicar el efecto de dibujo\n",
    "    styled_frame = cv2.bitwise_and(frame, gradient_colored)\n",
    "\n",
    "    # Mostrar el fotograma en proceso\n",
    "    cv2.imshow('Estilizado en Tiempo Real', styled_frame)\n",
    "\n",
    "    # Romper el ciclo con 'q'\n",
    "    if cv2.waitKey(1) & 0xFF == ord('q'):\n",
    "        break\n",
    "\n",
    "# Liberar recursos\n",
    "cap.release()\n",
    "cv2.destroyAllWindows()\n"
   ]
  }
 ],
 "metadata": {
  "kernelspec": {
   "display_name": ".venv",
   "language": "python",
   "name": "python3"
  },
  "language_info": {
   "codemirror_mode": {
    "name": "ipython",
    "version": 3
   },
   "file_extension": ".py",
   "mimetype": "text/x-python",
   "name": "python",
   "nbconvert_exporter": "python",
   "pygments_lexer": "ipython3",
   "version": "3.12.4"
  }
 },
 "nbformat": 4,
 "nbformat_minor": 2
}
