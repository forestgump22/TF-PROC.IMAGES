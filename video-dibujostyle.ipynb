{
 "cells": [
  {
   "cell_type": "code",
   "execution_count": 1,
   "metadata": {},
   "outputs": [
    {
     "name": "stdout",
     "output_type": "stream",
     "text": [
      "Hello World!\n"
     ]
    }
   ],
   "source": [
    "print(\"Hello World!\")"
   ]
  },
  {
   "cell_type": "code",
   "execution_count": 10,
   "metadata": {},
   "outputs": [],
   "source": [
    "import cv2\n",
    "import numpy as np\n",
    "\n",
    "# Inicializar la captura de video desde la webcam (índice 0)\n",
    "cap = cv2.VideoCapture(0)\n",
    "\n",
    "# Definir el kernel\n",
    "kernel = np.ones((5, 5), np.uint8)\n",
    "\n",
    "# Crear una ventana de visualización\n",
    "cv2.namedWindow('Estilizado en Tiempo Real', cv2.WINDOW_NORMAL)\n",
    "\n",
    "while cap.isOpened():\n",
    "    ret, frame = cap.read()\n",
    "    if not ret:\n",
    "        break\n",
    "    \n",
    "    smoothed = cv2.bilateralFilter(frame, d=9, sigmaColor=75, sigmaSpace=75)\n",
    "\n",
    "    # Redimensionar el marco para procesamiento más rápido\n",
    "    frame = cv2.resize(frame, (640, 480))\n",
    "\n",
    "    # Convertir a escala de grises\n",
    "    gray = cv2.cvtColor(frame, cv2.COLOR_BGR2GRAY)\n",
    "\n",
    "    # Aplicar cierre\n",
    "    closed = cv2.morphologyEx(gray, cv2.MORPH_CLOSE, kernel)\n",
    "\n",
    "    # Aplicar apertura\n",
    "    opened = cv2.morphologyEx(closed, cv2.MORPH_OPEN, kernel)\n",
    "\n",
    "    # Aplicar binarización\n",
    "    _, binary = cv2.threshold(opened, 120, 255, cv2.THRESH_BINARY_INV)\n",
    "\n",
    "    # Calcular el gradiente morfológico\n",
    "    gradient = cv2.morphologyEx(opened, cv2.MORPH_GRADIENT, kernel)\n",
    "\n",
    "    # Invertir el gradiente para obtener bordes en blanco sobre fondo negro\n",
    "    gradient_inv = cv2.bitwise_not(gradient)\n",
    "\n",
    "    # Convertir el gradiente a tres canales\n",
    "    gradient_colored = cv2.cvtColor(gradient_inv, cv2.COLOR_GRAY2BGR)\n",
    "\n",
    "    # Aplicar el efecto de dibujo\n",
    "    styled_frame = cv2.bitwise_and(smoothed, gradient_colored)\n",
    "\n",
    "    # Mostrar el fotograma en proceso\n",
    "    cv2.imshow('Estilizado en Tiempo Real', styled_frame)\n",
    "\n",
    "    # Romper el ciclo con 'q'\n",
    "    if cv2.waitKey(1) & 0xFF == ord('q'):\n",
    "        break\n",
    "\n",
    "# Liberar recursos\n",
    "cap.release()\n",
    "cv2.destroyAllWindows()\n"
   ]
  },
  {
   "cell_type": "code",
   "execution_count": 9,
   "metadata": {},
   "outputs": [],
   "source": []
  },
  {
   "cell_type": "markdown",
   "metadata": {},
   "source": [
    "## Ejemplos con imagenes"
   ]
  },
  {
   "cell_type": "code",
   "execution_count": 2,
   "metadata": {},
   "outputs": [
    {
     "name": "stdout",
     "output_type": "stream",
     "text": [
      "Procesamiento completado. Las imágenes se han guardado en la carpeta actual.\n"
     ]
    }
   ],
   "source": [
    "import cv2\n",
    "import os\n",
    "import numpy as np\n",
    "\n",
    "# Obtener la ruta de la carpeta actual\n",
    "current_folder = os.getcwd()\n",
    "imgs_folder = os.path.join(current_folder, 'imgs')\n",
    "\n",
    "# Función para aplicar un efecto de dibujo animado usando operaciones morfológicas\n",
    "def cartoonize_image_morph(image_path):\n",
    "    # Leer la imagen\n",
    "    img = cv2.imread(image_path)\n",
    "    if img is None:\n",
    "        print(f\"Error: no se puede leer la imagen {image_path}\")\n",
    "        return\n",
    "\n",
    "    # Convertir a escala de grises\n",
    "    gray = cv2.cvtColor(img, cv2.COLOR_BGR2GRAY)\n",
    "    \n",
    "    # Aplicar la operación de gradiente morfológico\n",
    "    kernel = cv2.getStructuringElement(cv2.MORPH_RECT, (2, 2))\n",
    "    gradient = cv2.morphologyEx(gray, cv2.MORPH_GRADIENT, kernel)\n",
    "\n",
    "    # Aplicar un umbral al gradiente\n",
    "    _, gradient_thresh = cv2.threshold(gradient, 40, 220, cv2.THRESH_BINARY)\n",
    "\n",
    "    # Invertir el gradiente para obtener los bordes en blanco\n",
    "    gradient_inv = cv2.bitwise_not(gradient_thresh)\n",
    "    \n",
    "    # Expande el gradiente invertido a tres canales para que coincida con la imagen original\n",
    "    expanded_gradient_inv = cv2.merge([gradient_inv, gradient_inv, gradient_inv])\n",
    "\n",
    "    # Combinar la imagen original con los bordes\n",
    "    cartoon = cv2.bitwise_and(img, expanded_gradient_inv)\n",
    "\n",
    "    return cartoon\n",
    "\n",
    "# Procesar todas las imágenes en la carpeta 'imgs'\n",
    "for filename in os.listdir(imgs_folder):\n",
    "    # Filtrar solo archivos de imagen comunes\n",
    "    if filename.lower().endswith(('.png', '.jpg', '.jpeg', '.bmp', '.gif', '.webp')):\n",
    "        input_path = os.path.join(imgs_folder, filename)\n",
    "        output_path_cartoon = os.path.join(current_folder, f'cartoon_{filename}')\n",
    "        \n",
    "        # Procesar la imagen\n",
    "        cartoon_image = cartoonize_image_morph(input_path)\n",
    "        \n",
    "        # Guardar la imagen procesada\n",
    "        if cartoon_image is not None:\n",
    "            cv2.imwrite(output_path_cartoon, cartoon_image)\n",
    "\n",
    "print(\"Procesamiento completado. Las imágenes se han guardado en la carpeta actual.\")\n"
   ]
  }
 ],
 "metadata": {
  "kernelspec": {
   "display_name": ".venv",
   "language": "python",
   "name": "python3"
  },
  "language_info": {
   "codemirror_mode": {
    "name": "ipython",
    "version": 3
   },
   "file_extension": ".py",
   "mimetype": "text/x-python",
   "name": "python",
   "nbconvert_exporter": "python",
   "pygments_lexer": "ipython3",
   "version": "3.12.4"
  }
 },
 "nbformat": 4,
 "nbformat_minor": 2
}
